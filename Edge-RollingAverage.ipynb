{
 "cells": [
  {
   "cell_type": "code",
   "execution_count": null,
   "metadata": {},
   "outputs": [],
   "source": [
    "import pandas as pd\n",
    "import json\n",
    "import os\n",
    "import random\n",
    "import time\n",
    "from datetime import datetime, timedelta\n",
    "import logging\n",
    "from icpd_core import icpd_util\n",
    "from streamsx.topology.topology import Topology\n",
    "import streamsx.topology.context"
   ]
  },
  {
   "cell_type": "code",
   "execution_count": null,
   "metadata": {},
   "outputs": [],
   "source": [
    "# Define a callable source that generates the sensor data\n",
    "class SensorReadingsSource(object):\n",
    "    def __call__(self):\n",
    "        # This is just an example using generated data\n",
    "        while True:\n",
    "            time.sleep(0.03)\n",
    "            sensor_id = random.randint(1,10)\n",
    "            reading = {}\n",
    "            reading [\"sensor_id\"] = \"sensor_\" + str(sensor_id)\n",
    "            reading [\"value\"] =  random.random() * 3000\n",
    "            reading[\"ts\"] = int((datetime.now().timestamp()))\n",
    "            reading[\"unique_id\"] = os.environ.get(\"UNIQUE_ID\")\n",
    "            yield reading"
   ]
  },
  {
   "cell_type": "code",
   "execution_count": null,
   "metadata": {},
   "outputs": [],
   "source": [
    "# Define an aggregation function\n",
    "def average_reading(items_in_window):\n",
    "    df = pd.DataFrame(items_in_window)\n",
    "    readings_by_id = df.groupby(\"sensor_id\")\n",
    "    averages = readings_by_id[\"value\"].mean()\n",
    "    period_end = df[\"ts\"].max()\n",
    "    result = []\n",
    "    for id, avg in averages.iteritems():\n",
    "        result.append({\"average\": avg,\n",
    "                \"sensor_id\": id,\n",
    "                \"period_end\": time.ctime(period_end)})\n",
    "    return result"
   ]
  },
  {
   "cell_type": "code",
   "execution_count": null,
   "metadata": {},
   "outputs": [],
   "source": [
    "# Create a Streams topology\n",
    "topo = Topology(name=\"SensorAverages\")\n",
    "\n",
    "# Data source\n",
    "readings = topo.source(SensorReadingsSource(), name=\"Readings\")\n",
    "\n",
    "# Filter\n",
    "valid_readings = readings.filter(lambda x : x[\"value\"] > 100,\n",
    "                                 name=\"ValidReadings\")\n",
    "\n",
    "# Define window: e.g. a 30 second rolling average, updated every second\n",
    "interval = timedelta(seconds=30)\n",
    "window = valid_readings.last(size=interval).trigger(when=timedelta(seconds=1))\n",
    "\n",
    "# Pass aggregation function to Window.aggregate\n",
    "#     average_reading returns a list of the averages for each sensor,\n",
    "#     use flat map to convert it to individual tuples, one per sensor\n",
    "rolling_average = window.aggregate(average_reading).flat_map()\n",
    "    \n",
    "# Simply print results to the log on the edge\n",
    "rolling_average.print()\n",
    "\n",
    "#\n",
    "# Build this application so it can be deployed to the edge\n",
    "#\n",
    "streams_instance_name = \"sample-streams\" ### PLEASE NOTE:  Change this value to the name of your Streams instance in Cloud Pak for Data\n",
    "cfg=icpd_util.get_service_instance_details(name=streams_instance_name)\n",
    "job_config = streamsx.topology.context.JobConfig()\n",
    "job_config.raw_overlay = {'edgeConfig': {'imageName':'edge-sensorrollingaverage', 'pipPackages':['pandas']}}\n",
    "job_config.add(cfg)\n",
    "cfg[streamsx.topology.context.ConfigParams.SSL_VERIFY] = False\n",
    "submission_result = streamsx.topology.context.submit('EDGE', topo, cfg)\n",
    "if submission_result.return_code == 0:\n",
    "    print(\"Application image built successfully.\")\n",
    "    print(\"    Image:    %s\" % (submission_result['image'],))"
   ]
  },
  {
   "cell_type": "code",
   "execution_count": null,
   "metadata": {},
   "outputs": [],
   "source": []
  }
 ],
 "metadata": {
  "kernelspec": {
   "display_name": "Python 3.6",
   "language": "python",
   "name": "python3"
  },
  "language_info": {
   "codemirror_mode": {
    "name": "ipython",
    "version": 3
   },
   "file_extension": ".py",
   "mimetype": "text/x-python",
   "name": "python",
   "nbconvert_exporter": "python",
   "pygments_lexer": "ipython3",
   "version": "3.6.10"
  }
 },
 "nbformat": 4,
 "nbformat_minor": 1
}
